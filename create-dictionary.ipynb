{
 "cells": [
  {
   "cell_type": "code",
   "execution_count": 8,
   "metadata": {},
   "outputs": [
    {
     "name": "stderr",
     "output_type": "stream",
     "text": [
      "<>:36: SyntaxWarning: invalid escape sequence '\\P'\n",
      "<>:36: SyntaxWarning: invalid escape sequence '\\P'\n",
      "C:\\Users\\TUNG\\AppData\\Local\\Temp\\ipykernel_8428\\2693592801.py:36: SyntaxWarning: invalid escape sequence '\\P'\n",
      "  dictionary_path = 'D:\\\\2024.1\\Prj1\\SpellChecker\\dictionary.txt'\n"
     ]
    },
    {
     "name": "stdout",
     "output_type": "stream",
     "text": [
      "Đã thêm 120634 từ mới vào từ điển.\n"
     ]
    }
   ],
   "source": [
    "import nltk\n",
    "from nltk.corpus import words, wordnet\n",
    "import os\n",
    "\n",
    "def enrich_dictionary(file_path):\n",
    "    # Lấy danh sách từ từ NLTK\n",
    "    nltk_words = set(words.words())\n",
    "\n",
    "    # Lấy từ đồng nghĩa và các biến thể từ WordNet\n",
    "    wordnet_words = set()\n",
    "    for synset in wordnet.all_synsets():\n",
    "        for lemma in synset.lemmas():\n",
    "            wordnet_words.add(lemma.name().lower().replace('_', ' '))\n",
    "\n",
    "    # Hợp nhất tất cả các từ\n",
    "    enriched_words = nltk_words.union(wordnet_words)\n",
    "\n",
    "    # Đọc từ điển hiện tại từ file\n",
    "    if os.path.exists(file_path):\n",
    "        with open(file_path, 'r') as file:\n",
    "            existing_words = set(word.strip().lower() for word in file.readlines())\n",
    "    else:\n",
    "        existing_words = set()\n",
    "\n",
    "    # Thêm các từ mới chưa có trong từ điển\n",
    "    new_words = enriched_words - existing_words\n",
    "\n",
    "    # Ghi lại file từ điển đã làm giàu\n",
    "    with open(file_path, 'a') as file:\n",
    "        for word in sorted(new_words):\n",
    "            file.write(word + '\\n')\n",
    "\n",
    "    print(f\"Đã thêm {len(new_words)} từ mới vào từ điển.\")\n",
    "\n",
    "# Đường dẫn đến file từ điển\n",
    "dictionary_path = 'D:\\\\2024.1\\Prj1\\SpellChecker\\dictionary.txt'\n",
    "enrich_dictionary(dictionary_path)\n"
   ]
  },
  {
   "cell_type": "code",
   "execution_count": null,
   "metadata": {},
   "outputs": [],
   "source": [
    "def delete_empty_lines(file_path):\n",
    "    with open(file_path, 'r') as file:\n",
    "        lines = file.readlines()\n",
    "\n",
    "    with open(file_path, 'w') as file:\n",
    "        for line in lines:\n",
    "            if line.strip():\n",
    "                file.write(line)\n",
    "\n",
    "delete_empty_lines(dictionary_path)"
   ]
  },
  {
   "cell_type": "code",
   "execution_count": 7,
   "metadata": {},
   "outputs": [
    {
     "name": "stdout",
     "output_type": "stream",
     "text": [
      "Đã giữ lại 210693 từ tiếng Anh thực sự trong từ điển.\n"
     ]
    }
   ],
   "source": [
    "def filter_real_english_words(file_path):\n",
    "    # Lấy danh sách từ từ NLTK\n",
    "    nltk_words = set(words.words())\n",
    "\n",
    "    # Đọc từ điển hiện tại từ file\n",
    "    with open(file_path, 'r') as file:\n",
    "        existing_words = set(word.strip().lower() for word in file.readlines())\n",
    "\n",
    "    # Lọc các từ chỉ giữ lại từ tiếng Anh thực sự\n",
    "    real_english_words = existing_words.intersection(nltk_words)\n",
    "\n",
    "    # Ghi lại file từ điển đã lọc\n",
    "    with open(file_path, 'w') as file:\n",
    "        for word in sorted(real_english_words):\n",
    "            file.write(word + '\\n')\n",
    "\n",
    "    print(f\"Đã giữ lại {len(real_english_words)} từ tiếng Anh thực sự trong từ điển.\")\n",
    "\n",
    "filter_real_english_words(dictionary_path)"
   ]
  }
 ],
 "metadata": {
  "kernelspec": {
   "display_name": "Python 3",
   "language": "python",
   "name": "python3"
  },
  "language_info": {
   "codemirror_mode": {
    "name": "ipython",
    "version": 3
   },
   "file_extension": ".py",
   "mimetype": "text/x-python",
   "name": "python",
   "nbconvert_exporter": "python",
   "pygments_lexer": "ipython3",
   "version": "3.12.3"
  }
 },
 "nbformat": 4,
 "nbformat_minor": 2
}
